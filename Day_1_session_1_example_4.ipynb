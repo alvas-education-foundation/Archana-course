{
  "nbformat": 4,
  "nbformat_minor": 0,
  "metadata": {
    "colab": {
      "name": "Day 1 session 1 example 4",
      "provenance": [],
      "authorship_tag": "ABX9TyNRuvw1/CaB6xajwq+SnG9D",
      "include_colab_link": true
    },
    "kernelspec": {
      "name": "python3",
      "display_name": "Python 3"
    }
  },
  "cells": [
    {
      "cell_type": "markdown",
      "metadata": {
        "id": "view-in-github",
        "colab_type": "text"
      },
      "source": [
        "<a href=\"https://colab.research.google.com/github/alvas-education-foundation/Archana-course/blob/master/Day_1_session_1_example_4.ipynb\" target=\"_parent\"><img src=\"https://colab.research.google.com/assets/colab-badge.svg\" alt=\"Open In Colab\"/></a>"
      ]
    },
    {
      "cell_type": "markdown",
      "metadata": {
        "id": "6TNIDCdUJenY",
        "colab_type": "text"
      },
      "source": [
        " Python Program to Convert Kilometers to Miles"
      ]
    },
    {
      "cell_type": "code",
      "metadata": {
        "id": "P8Cu1AcPJjrc",
        "colab_type": "code",
        "colab": {
          "base_uri": "https://localhost:8080/",
          "height": 71
        },
        "outputId": "d281d119-361d-41ab-c2b7-2a98d2eff0ea"
      },
      "source": [
        "# To take kilometers from the user, uncomment the code below\n",
        "kilometers = int(input(\"Enter value in kilometers\"))\n",
        " \n",
        "# conversion factor\n",
        "conv_fac = 0.621371\n",
        " \n",
        "# calculate miles\n",
        "miles = kilometers * conv_fac\n",
        "print('%0.3f kilometers is equal to %0.3f miles' %(kilometers,miles))"
      ],
      "execution_count": 1,
      "outputs": [
        {
          "output_type": "stream",
          "text": [
            "Enter value in kilometers1000\n",
            "1000.000 kilometers is equal to 621.371 miles\n"
          ],
          "name": "stdout"
        }
      ]
    }
  ]
}