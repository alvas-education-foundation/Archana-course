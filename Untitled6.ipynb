{
  "nbformat": 4,
  "nbformat_minor": 0,
  "metadata": {
    "colab": {
      "name": "Untitled6.ipynb",
      "provenance": [],
      "collapsed_sections": [],
      "authorship_tag": "ABX9TyM0eZDGRCQWU6MF2PhRRSxy",
      "include_colab_link": true
    },
    "kernelspec": {
      "name": "python3",
      "display_name": "Python 3"
    }
  },
  "cells": [
    {
      "cell_type": "markdown",
      "metadata": {
        "id": "view-in-github",
        "colab_type": "text"
      },
      "source": [
        "<a href=\"https://colab.research.google.com/github/alvas-education-foundation/Archana-course/blob/master/Untitled6.ipynb\" target=\"_parent\"><img src=\"https://colab.research.google.com/assets/colab-badge.svg\" alt=\"Open In Colab\"/></a>"
      ]
    },
    {
      "cell_type": "markdown",
      "metadata": {
        "id": "Ks-a7RVH-24E"
      },
      "source": [
        "#sets"
      ]
    },
    {
      "cell_type": "code",
      "metadata": {
        "colab": {
          "base_uri": "https://localhost:8080/"
        },
        "id": "02kzEQyr-3f8",
        "outputId": "1aac25ed-693c-4410-8368-76e739888148"
      },
      "source": [
        "numbers={1,2,3,4}\r\n",
        "print(numbers)"
      ],
      "execution_count": null,
      "outputs": [
        {
          "output_type": "stream",
          "text": [
            "{1, 2, 3, 4}\n"
          ],
          "name": "stdout"
        }
      ]
    },
    {
      "cell_type": "code",
      "metadata": {
        "colab": {
          "base_uri": "https://localhost:8080/"
        },
        "id": "zsTurbynDZlr",
        "outputId": "4c22e582-100a-44f6-b786-4dabbd116e00"
      },
      "source": [
        "a=set(('ece', 'cse', 'ise'))\r\n",
        "a.add('mech')\r\n",
        "print(a)\r\n",
        "print(len(a))\r\n",
        "a.add('cse')\r\n",
        "print(a)\r\n",
        "print(len(a))"
      ],
      "execution_count": null,
      "outputs": [
        {
          "output_type": "stream",
          "text": [
            "{'mech', 'ise', 'cse', 'ece'}\n",
            "4\n",
            "{'mech', 'ise', 'cse', 'ece'}\n",
            "4\n"
          ],
          "name": "stdout"
        }
      ]
    },
    {
      "cell_type": "code",
      "metadata": {
        "colab": {
          "base_uri": "https://localhost:8080/"
        },
        "id": "hnCeTc_kDbxb",
        "outputId": "d06c51bc-ee56-40f7-b835-e9e87e229a01"
      },
      "source": [
        "a=set(('ece', 'cse', 'ise','mech','civil'))\r\n",
        "a.remove('mech')\r\n",
        "print(a)\r\n",
        "a.discard('civil')\r\n",
        "print(a)\r\n",
        "delected=a.pop()\r\n",
        "print(delected)\r\n",
        "print(a)"
      ],
      "execution_count": null,
      "outputs": [
        {
          "output_type": "stream",
          "text": [
            "{'ise', 'civil', 'ece', 'cse'}\n",
            "{'ise', 'ece', 'cse'}\n",
            "ise\n",
            "{'ece', 'cse'}\n"
          ],
          "name": "stdout"
        }
      ]
    },
    {
      "cell_type": "code",
      "metadata": {
        "colab": {
          "base_uri": "https://localhost:8080/"
        },
        "id": "quoqNVYNEeh9",
        "outputId": "d76a50af-a1e5-472a-891e-ec83345dbcbe"
      },
      "source": [
        "thisset={\"apple\",\"banana\",\"cherry\"}\r\n",
        "thisset.clear()\r\n",
        "print(thisset)\r\n",
        "print(len(thisset))"
      ],
      "execution_count": null,
      "outputs": [
        {
          "output_type": "stream",
          "text": [
            "set()\n",
            "0\n"
          ],
          "name": "stdout"
        }
      ]
    },
    {
      "cell_type": "code",
      "metadata": {
        "colab": {
          "base_uri": "https://localhost:8080/",
          "height": 197
        },
        "id": "x0vX7jCrHFCb",
        "outputId": "068c91bd-9487-41ea-dee0-21d101ab59b5"
      },
      "source": [
        "thisset={\"apple\",\"banana\",\"cherry\"}\r\n",
        "del thisset\r\n",
        "print(thisset)"
      ],
      "execution_count": null,
      "outputs": [
        {
          "output_type": "error",
          "ename": "NameError",
          "evalue": "ignored",
          "traceback": [
            "\u001b[0;31m---------------------------------------------------------------------------\u001b[0m",
            "\u001b[0;31mNameError\u001b[0m                                 Traceback (most recent call last)",
            "\u001b[0;32m<ipython-input-5-195fb746af3d>\u001b[0m in \u001b[0;36m<module>\u001b[0;34m()\u001b[0m\n\u001b[1;32m      1\u001b[0m \u001b[0mthisset\u001b[0m\u001b[0;34m=\u001b[0m\u001b[0;34m{\u001b[0m\u001b[0;34m\"apple\"\u001b[0m\u001b[0;34m,\u001b[0m\u001b[0;34m\"banana\"\u001b[0m\u001b[0;34m,\u001b[0m\u001b[0;34m\"cherry\"\u001b[0m\u001b[0;34m}\u001b[0m\u001b[0;34m\u001b[0m\u001b[0;34m\u001b[0m\u001b[0m\n\u001b[1;32m      2\u001b[0m \u001b[0;32mdel\u001b[0m \u001b[0mthisset\u001b[0m\u001b[0;34m\u001b[0m\u001b[0;34m\u001b[0m\u001b[0m\n\u001b[0;32m----> 3\u001b[0;31m \u001b[0mprint\u001b[0m\u001b[0;34m(\u001b[0m\u001b[0mthisset\u001b[0m\u001b[0;34m)\u001b[0m\u001b[0;34m\u001b[0m\u001b[0;34m\u001b[0m\u001b[0m\n\u001b[0m",
            "\u001b[0;31mNameError\u001b[0m: name 'thisset' is not defined"
          ]
        }
      ]
    },
    {
      "cell_type": "code",
      "metadata": {
        "colab": {
          "base_uri": "https://localhost:8080/"
        },
        "id": "Bvh3Jfr6HU_Y",
        "outputId": "7167f33a-1db9-4ba9-e3f9-bd4071f5ffff"
      },
      "source": [
        "set1={\"a\",\"b\",\"c\"}\r\n",
        "set2={1,2,3}\r\n",
        "set3=set1.union(set2)\r\n",
        "print(set3)"
      ],
      "execution_count": null,
      "outputs": [
        {
          "output_type": "stream",
          "text": [
            "{1, 2, 3, 'b', 'c', 'a'}\n"
          ],
          "name": "stdout"
        }
      ]
    },
    {
      "cell_type": "code",
      "metadata": {
        "colab": {
          "base_uri": "https://localhost:8080/"
        },
        "id": "cTqQuvQpHb6W",
        "outputId": "46adac85-acc5-4100-f38d-f01900802f78"
      },
      "source": [
        "thisset={\"apple\",\"banana\",\"cherry\"}\r\n",
        "tropical={\"pineapple\",\"mango\",\"papaya\"}\r\n",
        "thisset.update(tropical)\r\n",
        "print(thisset)"
      ],
      "execution_count": null,
      "outputs": [
        {
          "output_type": "stream",
          "text": [
            "{'mango', 'banana', 'apple', 'cherry', 'pineapple', 'papaya'}\n"
          ],
          "name": "stdout"
        }
      ]
    },
    {
      "cell_type": "code",
      "metadata": {
        "colab": {
          "base_uri": "https://localhost:8080/"
        },
        "id": "cpK90znAHfXe",
        "outputId": "ffef0d6f-9bcf-4423-bcb5-7419c81217c0"
      },
      "source": [
        "thisset={\"apple\",\"banana\",\"cherry\"}\r\n",
        "mylist=[\"kiwi\",\"orange\"]\r\n",
        "thisset.update(mylist)\r\n",
        "print(thisset)"
      ],
      "execution_count": null,
      "outputs": [
        {
          "output_type": "stream",
          "text": [
            "{'banana', 'kiwi', 'orange', 'apple', 'cherry'}\n"
          ],
          "name": "stdout"
        }
      ]
    },
    {
      "cell_type": "code",
      "metadata": {
        "colab": {
          "base_uri": "https://localhost:8080/"
        },
        "id": "hnQ_hlVKHk9u",
        "outputId": "9d583ade-d876-4191-d288-fec53e12cc15"
      },
      "source": [
        "mylist=[1,2,1,2,3]\r\n",
        "print(len(mylist))\r\n",
        "new=set(mylist)\r\n",
        "print(new)\r\n",
        "print(len(new))"
      ],
      "execution_count": null,
      "outputs": [
        {
          "output_type": "stream",
          "text": [
            "5\n",
            "{1, 2, 3}\n",
            "3\n"
          ],
          "name": "stdout"
        }
      ]
    },
    {
      "cell_type": "code",
      "metadata": {
        "colab": {
          "base_uri": "https://localhost:8080/"
        },
        "id": "K7qttoaIHqxD",
        "outputId": "1f705958-812e-4d2d-b8eb-646965967e12"
      },
      "source": [
        "fruits={\"apple\",\"banana\",\"cherry\"}\r\n",
        "fruits.add(\"orange\")\r\n",
        "print(fruits)"
      ],
      "execution_count": null,
      "outputs": [
        {
          "output_type": "stream",
          "text": [
            "{'banana', 'apple', 'orange', 'cherry'}\n"
          ],
          "name": "stdout"
        }
      ]
    },
    {
      "cell_type": "code",
      "metadata": {
        "colab": {
          "base_uri": "https://localhost:8080/"
        },
        "id": "91tyAJ_sHtur",
        "outputId": "cb8886a3-ab0a-4004-fee7-5d01e4009596"
      },
      "source": [
        "fruits={\"apple\",\"banana\",\"cherry\"}\r\n",
        "more_fruits=[\"orange\",\"mango\",\"grapes\"]\r\n",
        "fruits.update(more_fruits)\r\n",
        "print(fruits)\r\n",
        "fruits=fruits.union(more_fruits)\r\n",
        "print(fruits)"
      ],
      "execution_count": null,
      "outputs": [
        {
          "output_type": "stream",
          "text": [
            "{'banana', 'grapes', 'mango', 'orange', 'apple', 'cherry'}\n",
            "{'mango', 'banana', 'orange', 'apple', 'cherry', 'grapes'}\n"
          ],
          "name": "stdout"
        }
      ]
    },
    {
      "cell_type": "code",
      "metadata": {
        "colab": {
          "base_uri": "https://localhost:8080/"
        },
        "id": "Ol_4fUI_HwkT",
        "outputId": "0559959d-a896-4d1e-eb93-53b3973990ea"
      },
      "source": [
        "fruits={\"apple\",\"banana\",\"cherry\"}\r\n",
        "fruits.remove(\"banana\")\r\n",
        "print(fruits)"
      ],
      "execution_count": null,
      "outputs": [
        {
          "output_type": "stream",
          "text": [
            "{'apple', 'cherry'}\n"
          ],
          "name": "stdout"
        }
      ]
    },
    {
      "cell_type": "code",
      "metadata": {
        "colab": {
          "base_uri": "https://localhost:8080/"
        },
        "id": "S3NJ3ODUH0ub",
        "outputId": "684c0833-9c18-4cbd-d6da-0e5934ed1053"
      },
      "source": [
        "fruits={\"apple\",\"banana\",\"cherry\"}\r\n",
        "fruits.discard(\"banana\")\r\n",
        "print(fruits)"
      ],
      "execution_count": null,
      "outputs": [
        {
          "output_type": "stream",
          "text": [
            "{'apple', 'cherry'}\n"
          ],
          "name": "stdout"
        }
      ]
    },
    {
      "cell_type": "markdown",
      "metadata": {
        "id": "L2sVZMMPIDTB"
      },
      "source": [
        "#dictionary"
      ]
    },
    {
      "cell_type": "code",
      "metadata": {
        "colab": {
          "base_uri": "https://localhost:8080/"
        },
        "id": "VmAJPMELIEJL",
        "outputId": "7798548b-1d3e-4b26-a49c-83f131beaf99"
      },
      "source": [
        "today={\r\n",
        "    \"day\":\"thursday\",\r\n",
        "    \"date\":\"07-01-2021\",\r\n",
        "    \"month\":\"january\"\r\n",
        "}\r\n",
        "print(today)"
      ],
      "execution_count": null,
      "outputs": [
        {
          "output_type": "stream",
          "text": [
            "{'day': 'thursday', 'date': '07-01-2021', 'month': 'january'}\n"
          ],
          "name": "stdout"
        }
      ]
    },
    {
      "cell_type": "code",
      "metadata": {
        "colab": {
          "base_uri": "https://localhost:8080/"
        },
        "id": "rwF6qGjFIH_D",
        "outputId": "3a405f0f-209a-4245-ec8c-a44d54a4dc35"
      },
      "source": [
        "thisdict={\r\n",
        "    \"brand\":\"ford\",\r\n",
        "    \"model\":\"mustang\",\r\n",
        "    \"year\":1964,\r\n",
        "    #\"year\":2020,     #duplication is not allowed\r\n",
        "    #\"model\":\"GT\"\r\n",
        "}\r\n",
        "x=thisdict.get(\"model\")\r\n",
        "print(x)\r\n",
        "print(len(thisdict))"
      ],
      "execution_count": null,
      "outputs": [
        {
          "output_type": "stream",
          "text": [
            "mustang\n",
            "3\n"
          ],
          "name": "stdout"
        }
      ]
    },
    {
      "cell_type": "code",
      "metadata": {
        "colab": {
          "base_uri": "https://localhost:8080/",
          "height": 231
        },
        "id": "80RRmQm1IOpD",
        "outputId": "8f46490a-86b2-4131-e9ec-a71d9bd83db0"
      },
      "source": [
        "thisdict={\r\n",
        "    \"brand\":\"ford\",\r\n",
        "    \"model\":\"mustang\",\r\n",
        "    \"year\":1964\r\n",
        "}\r\n",
        "x = thisdict.key()\r\n",
        "print(x)\r\n",
        "print(len(thisdict))"
      ],
      "execution_count": null,
      "outputs": [
        {
          "output_type": "error",
          "ename": "AttributeError",
          "evalue": "ignored",
          "traceback": [
            "\u001b[0;31m---------------------------------------------------------------------------\u001b[0m",
            "\u001b[0;31mAttributeError\u001b[0m                            Traceback (most recent call last)",
            "\u001b[0;32m<ipython-input-16-9babac5b2e67>\u001b[0m in \u001b[0;36m<module>\u001b[0;34m()\u001b[0m\n\u001b[1;32m      4\u001b[0m     \u001b[0;34m\"year\"\u001b[0m\u001b[0;34m:\u001b[0m\u001b[0;36m1964\u001b[0m\u001b[0;34m\u001b[0m\u001b[0;34m\u001b[0m\u001b[0m\n\u001b[1;32m      5\u001b[0m }\n\u001b[0;32m----> 6\u001b[0;31m \u001b[0mx\u001b[0m \u001b[0;34m=\u001b[0m \u001b[0mthisdict\u001b[0m\u001b[0;34m.\u001b[0m\u001b[0mkey\u001b[0m\u001b[0;34m(\u001b[0m\u001b[0;34m)\u001b[0m\u001b[0;34m\u001b[0m\u001b[0;34m\u001b[0m\u001b[0m\n\u001b[0m\u001b[1;32m      7\u001b[0m \u001b[0mprint\u001b[0m\u001b[0;34m(\u001b[0m\u001b[0mx\u001b[0m\u001b[0;34m)\u001b[0m\u001b[0;34m\u001b[0m\u001b[0;34m\u001b[0m\u001b[0m\n\u001b[1;32m      8\u001b[0m \u001b[0mprint\u001b[0m\u001b[0;34m(\u001b[0m\u001b[0mlen\u001b[0m\u001b[0;34m(\u001b[0m\u001b[0mthisdict\u001b[0m\u001b[0;34m)\u001b[0m\u001b[0;34m)\u001b[0m\u001b[0;34m\u001b[0m\u001b[0;34m\u001b[0m\u001b[0m\n",
            "\u001b[0;31mAttributeError\u001b[0m: 'dict' object has no attribute 'key'"
          ]
        }
      ]
    },
    {
      "cell_type": "code",
      "metadata": {
        "colab": {
          "base_uri": "https://localhost:8080/"
        },
        "id": "kMhFSJUsIwDi",
        "outputId": "cfb183d8-2b8c-46a9-8843-0a36eb17527b"
      },
      "source": [
        "thisdict={\r\n",
        "    \"brand\":\"ford\",\r\n",
        "    \"model\":\"mustang\",\r\n",
        "    \"year\":1964\r\n",
        "}\r\n",
        "x = thisdict.values()\r\n",
        "print(x)"
      ],
      "execution_count": null,
      "outputs": [
        {
          "output_type": "stream",
          "text": [
            "dict_values(['ford', 'mustang', 1964])\n"
          ],
          "name": "stdout"
        }
      ]
    },
    {
      "cell_type": "code",
      "metadata": {
        "colab": {
          "base_uri": "https://localhost:8080/"
        },
        "id": "Wb_Ef5D_Iz0i",
        "outputId": "e67ad59b-9e11-432a-c801-6b6954e29279"
      },
      "source": [
        "thisdict={\r\n",
        "    \"brand\":\"ford\",\r\n",
        "    \"model\":\"mustang\",\r\n",
        "    \"year\":1964\r\n",
        "}\r\n",
        "x = thisdict.values()\r\n",
        "thisdict[\"year\"]=2000\r\n",
        "print(x)\r\n",
        "print(len(thisdict))"
      ],
      "execution_count": null,
      "outputs": [
        {
          "output_type": "stream",
          "text": [
            "dict_values(['ford', 'mustang', 2000])\n",
            "3\n"
          ],
          "name": "stdout"
        }
      ]
    },
    {
      "cell_type": "code",
      "metadata": {
        "colab": {
          "base_uri": "https://localhost:8080/"
        },
        "id": "xDXpzp7EI4qk",
        "outputId": "6ee42155-9f3c-451d-aeda-b91d5028e990"
      },
      "source": [
        "thisdict={\r\n",
        "    \"brand\":\"ford\",\r\n",
        "    \"model\":\"mustang\",\r\n",
        "    \"year\":1964\r\n",
        "}\r\n",
        "thisdict[\"color\"]=\"red\"\r\n",
        "print(thisdict)"
      ],
      "execution_count": null,
      "outputs": [
        {
          "output_type": "stream",
          "text": [
            "{'brand': 'ford', 'model': 'mustang', 'year': 1964, 'color': 'red'}\n"
          ],
          "name": "stdout"
        }
      ]
    },
    {
      "cell_type": "code",
      "metadata": {
        "colab": {
          "base_uri": "https://localhost:8080/"
        },
        "id": "EvtRiB9kI_fK",
        "outputId": "aad85277-8735-4e9c-ff72-c86452852b1c"
      },
      "source": [
        "thisdict={\r\n",
        "    \"brand\":\"ford\",\r\n",
        "    \"model\":\"mustang\",\r\n",
        "    \"year\":1964\r\n",
        "}\r\n",
        "thisdict.pop(\"model\")\r\n",
        "print(thisdict)\r\n",
        "thisdict.popitem()\r\n",
        "print(thisdict)\r\n"
      ],
      "execution_count": null,
      "outputs": [
        {
          "output_type": "stream",
          "text": [
            "{'brand': 'ford', 'year': 1964}\n",
            "{'brand': 'ford'}\n"
          ],
          "name": "stdout"
        }
      ]
    },
    {
      "cell_type": "code",
      "metadata": {
        "colab": {
          "base_uri": "https://localhost:8080/"
        },
        "id": "OltFIXbXJDpb",
        "outputId": "12740f0f-6c9d-43ca-c693-3235a2bc021a"
      },
      "source": [
        "thisdict={\r\n",
        "    \"brand\":\"ford\",\r\n",
        "    \"model\":\"mustang\",\r\n",
        "    \"year\":1964\r\n",
        "}\r\n",
        "del thisdict[\"model\"]\r\n",
        "print(thisdict)"
      ],
      "execution_count": null,
      "outputs": [
        {
          "output_type": "stream",
          "text": [
            "{'brand': 'ford', 'year': 1964}\n"
          ],
          "name": "stdout"
        }
      ]
    },
    {
      "cell_type": "code",
      "metadata": {
        "colab": {
          "base_uri": "https://localhost:8080/"
        },
        "id": "7wkF2i09JE5a",
        "outputId": "9a6f794b-f671-41a4-8cc4-4478de6f0e8e"
      },
      "source": [
        "car={\r\n",
        "    \"brand\":\"ford\",\r\n",
        "     \"model\":\"mustang\",\r\n",
        "     \"year\":1964\r\n",
        "}\r\n",
        "x=car.get(\"model\")\r\n",
        "print(x)"
      ],
      "execution_count": null,
      "outputs": [
        {
          "output_type": "stream",
          "text": [
            "mustang\n"
          ],
          "name": "stdout"
        }
      ]
    },
    {
      "cell_type": "code",
      "metadata": {
        "colab": {
          "base_uri": "https://localhost:8080/"
        },
        "id": "yx9S-r-OJJ9L",
        "outputId": "9f6b1a3d-8a40-4ad9-f125-13ef75122806"
      },
      "source": [
        "car={\r\n",
        "    \"brand\":\"ford\",\r\n",
        "     \"model\":\"mustang\",\r\n",
        "     \"year\":1964\r\n",
        "}\r\n",
        "car[\"year\"]=2020\r\n",
        "print(car)"
      ],
      "execution_count": null,
      "outputs": [
        {
          "output_type": "stream",
          "text": [
            "{'brand': 'ford', 'model': 'mustang', 'year': 2020}\n"
          ],
          "name": "stdout"
        }
      ]
    },
    {
      "cell_type": "code",
      "metadata": {
        "colab": {
          "base_uri": "https://localhost:8080/"
        },
        "id": "VTi0xTutJONz",
        "outputId": "73927373-e780-40c3-bf32-c77f91fa3c6f"
      },
      "source": [
        "car={\r\n",
        "    \"brand\":\"ford\",\r\n",
        "     \"model\":\"mustang\",\r\n",
        "     \"year\":1964\r\n",
        "}\r\n",
        "car.update({\"color\":\"red\"})\r\n",
        "print(car)"
      ],
      "execution_count": null,
      "outputs": [
        {
          "output_type": "stream",
          "text": [
            "{'brand': 'ford', 'model': 'mustang', 'year': 1964, 'color': 'red'}\n"
          ],
          "name": "stdout"
        }
      ]
    },
    {
      "cell_type": "code",
      "metadata": {
        "colab": {
          "base_uri": "https://localhost:8080/"
        },
        "id": "vp-qbcd5JPYj",
        "outputId": "9912ebbf-f7cb-4f58-dffd-3467595ce221"
      },
      "source": [
        "car={\r\n",
        "    \"brand\":\"ford\",\r\n",
        "     \"model\":\"mustang\",\r\n",
        "     \"year\":1964\r\n",
        "}\r\n",
        "car.pop(\"model\")\r\n",
        "print(car)"
      ],
      "execution_count": null,
      "outputs": [
        {
          "output_type": "stream",
          "text": [
            "{'brand': 'ford', 'year': 1964}\n"
          ],
          "name": "stdout"
        }
      ]
    },
    {
      "cell_type": "markdown",
      "metadata": {
        "id": "KJwjjpreMg17"
      },
      "source": [
        "#Python conditional and if statements"
      ]
    },
    {
      "cell_type": "code",
      "metadata": {
        "colab": {
          "base_uri": "https://localhost:8080/"
        },
        "id": "5yAw5di3MpTr",
        "outputId": "851acbea-8250-45f0-ce2f-844352d10dd8"
      },
      "source": [
        "a=33\r\n",
        "b=200\r\n",
        "if b>a:\r\n",
        "   print(\"b is greater than a\")"
      ],
      "execution_count": null,
      "outputs": [
        {
          "output_type": "stream",
          "text": [
            "b is greater than a\n"
          ],
          "name": "stdout"
        }
      ]
    },
    {
      "cell_type": "code",
      "metadata": {
        "colab": {
          "base_uri": "https://localhost:8080/"
        },
        "id": "IVZQxpwmOgPT",
        "outputId": "60f1ae4b-6e52-444a-c4f3-9e5163b64008"
      },
      "source": [
        "a=33\r\n",
        "b=33\r\n",
        "if b>a:\r\n",
        "   print(\"b is greater than a\")\r\n",
        "elif a==b:\r\n",
        "   print(\"a and b are equal\")"
      ],
      "execution_count": null,
      "outputs": [
        {
          "output_type": "stream",
          "text": [
            "a and b are equal\n"
          ],
          "name": "stdout"
        }
      ]
    },
    {
      "cell_type": "code",
      "metadata": {
        "colab": {
          "base_uri": "https://localhost:8080/"
        },
        "id": "h4rOPx8mOuEC",
        "outputId": "e93dd87c-ce79-49ee-a170-716d2a3e5047"
      },
      "source": [
        "a=55\r\n",
        "b=33\r\n",
        "if b>a:\r\n",
        "   print(\"b is greater than a\")\r\n",
        "elif a==b:\r\n",
        "   print(\"a and b are equal\")\r\n",
        "else:\r\n",
        "   print(\"a is greater than b\")"
      ],
      "execution_count": null,
      "outputs": [
        {
          "output_type": "stream",
          "text": [
            "a is greater than b\n"
          ],
          "name": "stdout"
        }
      ]
    },
    {
      "cell_type": "code",
      "metadata": {
        "colab": {
          "base_uri": "https://localhost:8080/"
        },
        "id": "T8-_lwf3P0ui",
        "outputId": "a2e95009-3795-4dcf-f6eb-7838316cd0a3"
      },
      "source": [
        "x=input(\"enter the num1-\")\r\n",
        "y=input(\"enter the num2-\")\r\n",
        "z=input(\"enter the num3-\")\r\n",
        "if x>y:\r\n",
        "  if x>z:\r\n",
        "    print(\"x is greater\")\r\n",
        "  else:\r\n",
        "    print(\"z is greater\")\r\n",
        "elif y>x:\r\n",
        "   if y>z:\r\n",
        "     print(\"y is greater\")\r\n",
        "   else:\r\n",
        "     print(\"z is greater\")\r\n",
        "else:\r\n",
        "  print(\"z is greater\")"
      ],
      "execution_count": null,
      "outputs": [
        {
          "output_type": "stream",
          "text": [
            "enter the num1-7\n",
            "enter the num2-5\n",
            "enter the num3-3\n",
            "x is greater\n"
          ],
          "name": "stdout"
        }
      ]
    },
    {
      "cell_type": "code",
      "metadata": {
        "colab": {
          "base_uri": "https://localhost:8080/"
        },
        "id": "dXTnmBtGTyAD",
        "outputId": "a859e2c7-808c-4a47-85b0-668b24799d73"
      },
      "source": [
        "i=1\r\n",
        "while i<6:\r\n",
        "   print(i)\r\n",
        "   i+=1  #i=i+1"
      ],
      "execution_count": null,
      "outputs": [
        {
          "output_type": "stream",
          "text": [
            "1\n",
            "2\n",
            "3\n",
            "4\n",
            "5\n"
          ],
          "name": "stdout"
        }
      ]
    },
    {
      "cell_type": "code",
      "metadata": {
        "colab": {
          "base_uri": "https://localhost:8080/"
        },
        "id": "sGsWwTOIUFl6",
        "outputId": "d752c8cc-d827-4736-b012-104981c6cedb"
      },
      "source": [
        "i=1\r\n",
        "while i<6:\r\n",
        "   print(i)\r\n",
        "   if i==3:\r\n",
        "     break\r\n",
        "   i+=1"
      ],
      "execution_count": null,
      "outputs": [
        {
          "output_type": "stream",
          "text": [
            "1\n",
            "2\n",
            "3\n"
          ],
          "name": "stdout"
        }
      ]
    },
    {
      "cell_type": "code",
      "metadata": {
        "colab": {
          "base_uri": "https://localhost:8080/"
        },
        "id": "GhyM887WU7pV",
        "outputId": "fd3ea7fb-eeb9-4017-b838-29661f471c68"
      },
      "source": [
        "i=0\r\n",
        "while i<6:\r\n",
        "   i+=1\r\n",
        "   if i==3:\r\n",
        "     continue\r\n",
        "   print(i)"
      ],
      "execution_count": null,
      "outputs": [
        {
          "output_type": "stream",
          "text": [
            "1\n",
            "2\n",
            "4\n",
            "5\n",
            "6\n"
          ],
          "name": "stdout"
        }
      ]
    },
    {
      "cell_type": "code",
      "metadata": {
        "colab": {
          "base_uri": "https://localhost:8080/"
        },
        "id": "Uzy8hf-lVaDi",
        "outputId": "975e71c6-7650-4429-f235-6de8a99922b1"
      },
      "source": [
        "x=int(input(\"enter the value of the numbere-\"))\r\n",
        "i=0\r\n",
        "count=0\r\n",
        "while i<=x:\r\n",
        "  count=count+i\r\n",
        "  i=i+1\r\n",
        "print(count)"
      ],
      "execution_count": null,
      "outputs": [
        {
          "output_type": "stream",
          "text": [
            "enter the value of the numbere-5\n",
            "15\n"
          ],
          "name": "stdout"
        }
      ]
    },
    {
      "cell_type": "code",
      "metadata": {
        "colab": {
          "base_uri": "https://localhost:8080/"
        },
        "id": "Q2Bri7S5Y1iD",
        "outputId": "d7c64ead-11ac-400f-de42-8fc7b091540f"
      },
      "source": [
        "n=int(input())\r\n",
        "sum=0\r\n",
        "while (n):\r\n",
        "   sum+=n\r\n",
        "   n-=1\r\n",
        "print(sum)"
      ],
      "execution_count": null,
      "outputs": [
        {
          "output_type": "stream",
          "text": [
            "5\n",
            "15\n"
          ],
          "name": "stdout"
        }
      ]
    },
    {
      "cell_type": "code",
      "metadata": {
        "colab": {
          "base_uri": "https://localhost:8080/"
        },
        "id": "k3hAAMtWZ56y",
        "outputId": "ce200c3b-0b8a-436f-f7b5-99d1fdf417d1"
      },
      "source": [
        "fruits=[\"apple\",\"banana\",\"cherry\"]\r\n",
        "for x in fruits:\r\n",
        "  print(x)"
      ],
      "execution_count": null,
      "outputs": [
        {
          "output_type": "stream",
          "text": [
            "apple\n",
            "banana\n",
            "cherry\n"
          ],
          "name": "stdout"
        }
      ]
    },
    {
      "cell_type": "code",
      "metadata": {
        "colab": {
          "base_uri": "https://localhost:8080/"
        },
        "id": "t2NcHBklal-6",
        "outputId": "8105dcbf-02b8-46a3-bec7-528ac1e358bc"
      },
      "source": [
        "for x in \"archana\":\r\n",
        "  print(x)"
      ],
      "execution_count": null,
      "outputs": [
        {
          "output_type": "stream",
          "text": [
            "a\n",
            "r\n",
            "c\n",
            "h\n",
            "a\n",
            "n\n",
            "a\n"
          ],
          "name": "stdout"
        }
      ]
    },
    {
      "cell_type": "code",
      "metadata": {
        "colab": {
          "base_uri": "https://localhost:8080/"
        },
        "id": "6Loryw-ea7Q6",
        "outputId": "bbab11c4-de09-410c-b10d-7b167f7b5616"
      },
      "source": [
        "fruits=[\"apple\",\"banana\",\"cherry\"]\r\n",
        "for x in fruits:\r\n",
        "  print(x)\r\n",
        "  if x==\"banana\":\r\n",
        "    break"
      ],
      "execution_count": null,
      "outputs": [
        {
          "output_type": "stream",
          "text": [
            "apple\n",
            "banana\n"
          ],
          "name": "stdout"
        }
      ]
    },
    {
      "cell_type": "markdown",
      "metadata": {
        "id": "GRZj2oVBbIAX"
      },
      "source": [
        "#range()"
      ]
    },
    {
      "cell_type": "code",
      "metadata": {
        "colab": {
          "base_uri": "https://localhost:8080/"
        },
        "id": "PFw1y99bbLKN",
        "outputId": "675d28e9-4c86-454a-8ef9-69a4a283fdd9"
      },
      "source": [
        " for x in range(5):\r\n",
        "   print(x)"
      ],
      "execution_count": null,
      "outputs": [
        {
          "output_type": "stream",
          "text": [
            "0\n",
            "1\n",
            "2\n",
            "3\n",
            "4\n"
          ],
          "name": "stdout"
        }
      ]
    },
    {
      "cell_type": "code",
      "metadata": {
        "colab": {
          "base_uri": "https://localhost:8080/"
        },
        "id": "QB0s7DDjbqnD",
        "outputId": "37b50b2e-f58b-46bd-aa68-c579758eb644"
      },
      "source": [
        "for x in range(3,30,5):\r\n",
        "  print(x)"
      ],
      "execution_count": null,
      "outputs": [
        {
          "output_type": "stream",
          "text": [
            "3\n",
            "8\n",
            "13\n",
            "18\n",
            "23\n",
            "28\n"
          ],
          "name": "stdout"
        }
      ]
    },
    {
      "cell_type": "code",
      "metadata": {
        "colab": {
          "base_uri": "https://localhost:8080/"
        },
        "id": "JtRqarPBcbqb",
        "outputId": "cfca0e76-fd3b-41b0-ba13-241bbca79752"
      },
      "source": [
        "adj=[\"red\",\"big\",\"tasty\"]\r\n",
        "fruits=[\"apple\",\"banana\",\"cherry\"]\r\n",
        "for x in adj:\r\n",
        "  for y in fruits:\r\n",
        "    print(x,y)"
      ],
      "execution_count": null,
      "outputs": [
        {
          "output_type": "stream",
          "text": [
            "red apple\n",
            "red banana\n",
            "red cherry\n",
            "big apple\n",
            "big banana\n",
            "big cherry\n",
            "tasty apple\n",
            "tasty banana\n",
            "tasty cherry\n"
          ],
          "name": "stdout"
        }
      ]
    },
    {
      "cell_type": "code",
      "metadata": {
        "colab": {
          "base_uri": "https://localhost:8080/"
        },
        "id": "2ZY4Gzazc6cK",
        "outputId": "dcc135d9-63ce-4d2c-8574-75c0dcdefee6"
      },
      "source": [
        "x=input(\"enter the number\")\r\n",
        "if n/2==0:\r\n",
        "  print(\"even\")\r\n",
        "else:\r\n",
        "  print(\"odd\")"
      ],
      "execution_count": null,
      "outputs": [
        {
          "output_type": "stream",
          "text": [
            "enter the number10\n",
            "even\n"
          ],
          "name": "stdout"
        }
      ]
    },
    {
      "cell_type": "markdown",
      "metadata": {
        "id": "QPUrgBXz09DM"
      },
      "source": [
        "#list comprehension"
      ]
    },
    {
      "cell_type": "code",
      "metadata": {
        "colab": {
          "base_uri": "https://localhost:8080/"
        },
        "id": "xzGQ6X5L207l",
        "outputId": "26fd2e3d-7d82-499c-be99-711de97d612f"
      },
      "source": [
        "x=[i for i in range(1,21)]\r\n",
        "print(x)"
      ],
      "execution_count": 104,
      "outputs": [
        {
          "output_type": "stream",
          "text": [
            "[1, 2, 3, 4, 5, 6, 7, 8, 9, 10, 11, 12, 13, 14, 15, 16, 17, 18, 19, 20]\n"
          ],
          "name": "stdout"
        }
      ]
    },
    {
      "cell_type": "code",
      "metadata": {
        "colab": {
          "base_uri": "https://localhost:8080/"
        },
        "id": "DHbv-J3Y3e-z",
        "outputId": "62ddd3fd-0df6-4ad6-96ca-4ceeaa489662"
      },
      "source": [
        "x=[i*i for i in range(1,21)]\r\n",
        "print(x)"
      ],
      "execution_count": 105,
      "outputs": [
        {
          "output_type": "stream",
          "text": [
            "[1, 4, 9, 16, 25, 36, 49, 64, 81, 100, 121, 144, 169, 196, 225, 256, 289, 324, 361, 400]\n"
          ],
          "name": "stdout"
        }
      ]
    },
    {
      "cell_type": "code",
      "metadata": {
        "colab": {
          "base_uri": "https://localhost:8080/"
        },
        "id": "QLGVNr9w5Wrq",
        "outputId": "5d8927b7-a56b-4ce2-f199-938db0ad2ba0"
      },
      "source": [
        "evenlist = [i for i in range(1,21) if i%2==0]\r\n",
        "print(evenlist) "
      ],
      "execution_count": 120,
      "outputs": [
        {
          "output_type": "stream",
          "text": [
            "[2, 4, 6, 8, 10, 12, 14, 16, 18, 20]\n"
          ],
          "name": "stdout"
        }
      ]
    },
    {
      "cell_type": "code",
      "metadata": {
        "colab": {
          "base_uri": "https://localhost:8080/"
        },
        "id": "6kkxZwOt5kiS",
        "outputId": "2af9cd7e-cca9-4a39-fa01-7ff6d9162ac4"
      },
      "source": [
        "oddsqr=[i*i for i in range(1,21) if i%2==1]\r\n",
        "print(oddsqr)"
      ],
      "execution_count": 121,
      "outputs": [
        {
          "output_type": "stream",
          "text": [
            "[1, 9, 25, 49, 81, 121, 169, 225, 289, 361]\n"
          ],
          "name": "stdout"
        }
      ]
    },
    {
      "cell_type": "code",
      "metadata": {
        "colab": {
          "base_uri": "https://localhost:8080/"
        },
        "id": "3lbrfEOe57Pa",
        "outputId": "c3fc517d-88c7-48d0-ba64-eac3fb559a05"
      },
      "source": [
        "if 0:\r\n",
        "  print(\"even\")\r\n",
        "else:\r\n",
        "  print(\"odd\")"
      ],
      "execution_count": 123,
      "outputs": [
        {
          "output_type": "stream",
          "text": [
            "odd\n"
          ],
          "name": "stdout"
        }
      ]
    },
    {
      "cell_type": "code",
      "metadata": {
        "colab": {
          "base_uri": "https://localhost:8080/"
        },
        "id": "YCVmsvYN6JSK",
        "outputId": "c10af30b-95e0-4d45-b8db-3d605f3ece26"
      },
      "source": [
        "mylist=[1,1,2,4,5]\r\n",
        "print(all(mylist))\r\n",
        "mylist2=[1,1,2,4,0]\r\n",
        "print(all(mylist2))"
      ],
      "execution_count": 125,
      "outputs": [
        {
          "output_type": "stream",
          "text": [
            "True\n",
            "False\n"
          ],
          "name": "stdout"
        }
      ]
    },
    {
      "cell_type": "code",
      "metadata": {
        "colab": {
          "base_uri": "https://localhost:8080/"
        },
        "id": "urEtLxdB8jOp",
        "outputId": "eb6ced2b-9781-4e96-c6cf-898b2bcc6f67"
      },
      "source": [
        "lst=[]    #prime number\r\n",
        "for i in range(2,21):\r\n",
        "  isPrime=True\r\n",
        "  for j in range(2,i):\r\n",
        "    if i%j==0:\r\n",
        "      isPrime=False\r\n",
        "  if isPrime:\r\n",
        "    lst.append(i)\r\n",
        "print(lst)"
      ],
      "execution_count": 137,
      "outputs": [
        {
          "output_type": "stream",
          "text": [
            "[2, 3, 5, 7, 11, 13, 17, 19]\n"
          ],
          "name": "stdout"
        }
      ]
    },
    {
      "cell_type": "code",
      "metadata": {
        "colab": {
          "base_uri": "https://localhost:8080/"
        },
        "id": "AS3D3A5b_o24",
        "outputId": "de98aba4-e689-4372-f4d9-aadd7c2bf9cc"
      },
      "source": [
        "primelist=[i for i in range(2,21)\r\n",
        "           if all(i%j!=0 for j in range(2,i))]\r\n",
        "print(primelist)"
      ],
      "execution_count": 139,
      "outputs": [
        {
          "output_type": "stream",
          "text": [
            "[2, 3, 5, 7, 11, 13, 17, 19]\n"
          ],
          "name": "stdout"
        }
      ]
    },
    {
      "cell_type": "code",
      "metadata": {
        "colab": {
          "base_uri": "https://localhost:8080/"
        },
        "id": "VJfsjUZKC5Yq",
        "outputId": "b2c55522-cdcf-4374-d0cc-867693f4fd1a"
      },
      "source": [
        "x=[i*i for i in range(1,25) if i<6 ]\r\n",
        "print(x)"
      ],
      "execution_count": 144,
      "outputs": [
        {
          "output_type": "stream",
          "text": [
            "[1, 4, 9, 16, 25]\n"
          ],
          "name": "stdout"
        }
      ]
    },
    {
      "cell_type": "markdown",
      "metadata": {
        "id": "6-1JyNiOKL6G"
      },
      "source": [
        "#function & arguments"
      ]
    },
    {
      "cell_type": "code",
      "metadata": {
        "colab": {
          "base_uri": "https://localhost:8080/"
        },
        "id": "A5iDHWAgKPit",
        "outputId": "152a8204-5f31-4d6d-f145-6d4cc9bf7601"
      },
      "source": [
        "def my_fun(a,b):\r\n",
        "  print(a,b)\r\n",
        "my_fun(\"jack\",\"jill\")"
      ],
      "execution_count": 146,
      "outputs": [
        {
          "output_type": "stream",
          "text": [
            "jack jill\n"
          ],
          "name": "stdout"
        }
      ]
    },
    {
      "cell_type": "code",
      "metadata": {
        "colab": {
          "base_uri": "https://localhost:8080/"
        },
        "id": "wH6PacznNa0_",
        "outputId": "383d8d5c-a856-4415-968a-11d4f0ee53c5"
      },
      "source": [
        "def my_fun(a,b=435):\r\n",
        "  print(a,b)\r\n",
        "my_fun(\"jack\")"
      ],
      "execution_count": 147,
      "outputs": [
        {
          "output_type": "stream",
          "text": [
            "jack 435\n"
          ],
          "name": "stdout"
        }
      ]
    },
    {
      "cell_type": "code",
      "metadata": {
        "colab": {
          "base_uri": "https://localhost:8080/",
          "height": 231
        },
        "id": "APWl00c4OsEI",
        "outputId": "8c3704b5-25df-42e2-a61c-160092d2235c"
      },
      "source": [
        "def my_fun(a,b,c=3):\r\n",
        "  print(a,b,c)\r\n",
        "x,y,z=my_fun(\"jack\",\"jill\")\r\n",
        "print(x,y,z)"
      ],
      "execution_count": 151,
      "outputs": [
        {
          "output_type": "stream",
          "text": [
            "jack jill 3\n"
          ],
          "name": "stdout"
        },
        {
          "output_type": "error",
          "ename": "TypeError",
          "evalue": "ignored",
          "traceback": [
            "\u001b[0;31m---------------------------------------------------------------------------\u001b[0m",
            "\u001b[0;31mTypeError\u001b[0m                                 Traceback (most recent call last)",
            "\u001b[0;32m<ipython-input-151-8beaf6814d56>\u001b[0m in \u001b[0;36m<module>\u001b[0;34m()\u001b[0m\n\u001b[1;32m      1\u001b[0m \u001b[0;32mdef\u001b[0m \u001b[0mmy_fun\u001b[0m\u001b[0;34m(\u001b[0m\u001b[0ma\u001b[0m\u001b[0;34m,\u001b[0m\u001b[0mb\u001b[0m\u001b[0;34m,\u001b[0m\u001b[0mc\u001b[0m\u001b[0;34m=\u001b[0m\u001b[0;36m3\u001b[0m\u001b[0;34m)\u001b[0m\u001b[0;34m:\u001b[0m\u001b[0;34m\u001b[0m\u001b[0;34m\u001b[0m\u001b[0m\n\u001b[1;32m      2\u001b[0m   \u001b[0mprint\u001b[0m\u001b[0;34m(\u001b[0m\u001b[0ma\u001b[0m\u001b[0;34m,\u001b[0m\u001b[0mb\u001b[0m\u001b[0;34m,\u001b[0m\u001b[0mc\u001b[0m\u001b[0;34m)\u001b[0m\u001b[0;34m\u001b[0m\u001b[0;34m\u001b[0m\u001b[0m\n\u001b[0;32m----> 3\u001b[0;31m \u001b[0mx\u001b[0m\u001b[0;34m,\u001b[0m\u001b[0my\u001b[0m\u001b[0;34m,\u001b[0m\u001b[0mz\u001b[0m\u001b[0;34m=\u001b[0m\u001b[0mmy_fun\u001b[0m\u001b[0;34m(\u001b[0m\u001b[0;34m\"jack\"\u001b[0m\u001b[0;34m,\u001b[0m\u001b[0;34m\"jill\"\u001b[0m\u001b[0;34m)\u001b[0m\u001b[0;34m\u001b[0m\u001b[0;34m\u001b[0m\u001b[0m\n\u001b[0m\u001b[1;32m      4\u001b[0m \u001b[0mprint\u001b[0m\u001b[0;34m(\u001b[0m\u001b[0mx\u001b[0m\u001b[0;34m,\u001b[0m\u001b[0my\u001b[0m\u001b[0;34m,\u001b[0m\u001b[0mz\u001b[0m\u001b[0;34m)\u001b[0m\u001b[0;34m\u001b[0m\u001b[0;34m\u001b[0m\u001b[0m\n",
            "\u001b[0;31mTypeError\u001b[0m: 'NoneType' object is not iterable"
          ]
        }
      ]
    }
  ]
}