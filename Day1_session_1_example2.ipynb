{
  "nbformat": 4,
  "nbformat_minor": 0,
  "metadata": {
    "colab": {
      "name": "Day1 session 1 example2",
      "provenance": [],
      "authorship_tag": "ABX9TyPyjDwVL3+0arX/MZboMUCc",
      "include_colab_link": true
    },
    "kernelspec": {
      "name": "python3",
      "display_name": "Python 3"
    }
  },
  "cells": [
    {
      "cell_type": "markdown",
      "metadata": {
        "id": "view-in-github",
        "colab_type": "text"
      },
      "source": [
        "<a href=\"https://colab.research.google.com/github/alvas-education-foundation/Archana-course/blob/master/Day1_session_1_example2.ipynb\" target=\"_parent\"><img src=\"https://colab.research.google.com/assets/colab-badge.svg\" alt=\"Open In Colab\"/></a>"
      ]
    },
    {
      "cell_type": "markdown",
      "metadata": {
        "id": "z3ah2mdZIDiM",
        "colab_type": "text"
      },
      "source": [
        " \n",
        "Python program to check if the input year is a leap year or not"
      ]
    },
    {
      "cell_type": "code",
      "metadata": {
        "id": "_On_2gF8IExU",
        "colab_type": "code",
        "colab": {
          "base_uri": "https://localhost:8080/",
          "height": 51
        },
        "outputId": "702cfb87-5fbb-4fe4-be22-98169ec47153"
      },
      "source": [
        " \n",
        "# To get year (integer input) from the user\n",
        "year = int(input(\"Enter a year: \"))\n",
        " \n",
        "if ((year % 4) == 0 and (year % 100)  != 0) or ((year % 400) == 0):\n",
        "           print(\"{0} is a leap year\".format(year))\n",
        "else:\n",
        "           print(\"{0} is not a leap year\".format(year))"
      ],
      "execution_count": null,
      "outputs": [
        {
          "output_type": "stream",
          "text": [
            "Enter a year: 2000\n",
            "2000 is a leap year\n"
          ],
          "name": "stdout"
        }
      ]
    }
  ]
}