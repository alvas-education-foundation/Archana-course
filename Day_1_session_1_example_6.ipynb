{
  "nbformat": 4,
  "nbformat_minor": 0,
  "metadata": {
    "colab": {
      "name": "Day 1 session 1 example 6",
      "provenance": [],
      "authorship_tag": "ABX9TyM9qAXkr5bFsT8Hqsec+09p",
      "include_colab_link": true
    },
    "kernelspec": {
      "name": "python3",
      "display_name": "Python 3"
    }
  },
  "cells": [
    {
      "cell_type": "markdown",
      "metadata": {
        "id": "view-in-github",
        "colab_type": "text"
      },
      "source": [
        "<a href=\"https://colab.research.google.com/github/alvas-education-foundation/Archana-course/blob/master/Day_1_session_1_example_6.ipynb\" target=\"_parent\"><img src=\"https://colab.research.google.com/assets/colab-badge.svg\" alt=\"Open In Colab\"/></a>"
      ]
    },
    {
      "cell_type": "markdown",
      "metadata": {
        "id": "5eJlCHa4KtTC",
        "colab_type": "text"
      },
      "source": [
        " \n",
        "Python Program to find prime or not using function"
      ]
    },
    {
      "cell_type": "code",
      "metadata": {
        "id": "FVV6z3zEKxPP",
        "colab_type": "code",
        "colab": {
          "base_uri": "https://localhost:8080/",
          "height": 51
        },
        "outputId": "a364ceb8-e321-4180-ddd5-01605662d6cd"
      },
      "source": [
        "def test_prime(n):\n",
        "    if (n==1):\n",
        "        return False\n",
        "    elif (n==2):\n",
        "        return True;\n",
        "    else:\n",
        "        for x in range(2,n):\n",
        "            if(n % x==0):\n",
        "                return False\n",
        "        return True\n",
        "no=int(input(\"Enter the number\"))\n",
        "if (test_prime(no)) is True :\n",
        "    print(\" {0} is a prime no\".format(no))\n",
        "else:\n",
        "     print(\" {0} is not a prime no\".format(no))"
      ],
      "execution_count": 1,
      "outputs": [
        {
          "output_type": "stream",
          "text": [
            "Enter the number4\n",
            " 4 is not a prime no\n"
          ],
          "name": "stdout"
        }
      ]
    }
  ]
}