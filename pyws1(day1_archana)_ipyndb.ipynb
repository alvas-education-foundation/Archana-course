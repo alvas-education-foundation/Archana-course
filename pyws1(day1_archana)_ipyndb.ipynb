{
  "nbformat": 4,
  "nbformat_minor": 0,
  "metadata": {
    "colab": {
      "name": "pyws1(day1.archana).ipyndb",
      "provenance": [],
      "collapsed_sections": [],
      "authorship_tag": "ABX9TyOdpJfHQ8UeYoW2anrRDsvA",
      "include_colab_link": true
    },
    "kernelspec": {
      "name": "python3",
      "display_name": "Python 3"
    }
  },
  "cells": [
    {
      "cell_type": "markdown",
      "metadata": {
        "id": "view-in-github",
        "colab_type": "text"
      },
      "source": [
        "<a href=\"https://colab.research.google.com/github/alvas-education-foundation/Archana-course/blob/master/pyws1(day1_archana)_ipyndb.ipynb\" target=\"_parent\"><img src=\"https://colab.research.google.com/assets/colab-badge.svg\" alt=\"Open In Colab\"/></a>"
      ]
    },
    {
      "cell_type": "code",
      "metadata": {
        "colab": {
          "base_uri": "https://localhost:8080/"
        },
        "id": "FqQqKP7wpWEz",
        "outputId": "23ee4615-9bdd-4529-d856-20265f46995d"
      },
      "source": [
        "print(\"hello world\")"
      ],
      "execution_count": null,
      "outputs": [
        {
          "output_type": "stream",
          "text": [
            "hello world\n"
          ],
          "name": "stdout"
        }
      ]
    },
    {
      "cell_type": "markdown",
      "metadata": {
        "id": "2EBmpvi3uTDw"
      },
      "source": [
        "variable"
      ]
    },
    {
      "cell_type": "code",
      "metadata": {
        "colab": {
          "base_uri": "https://localhost:8080/"
        },
        "id": "vhEcEAGYuU8Q",
        "outputId": "e3cca8c7-2c84-4695-e242-a49b7cb5e3ee"
      },
      "source": [
        "x=5\r\n",
        "y=\"john\"\r\n",
        "z=42.4\r\n",
        "print(x)\r\n",
        "print(y)\r\n",
        "print(z)"
      ],
      "execution_count": null,
      "outputs": [
        {
          "output_type": "stream",
          "text": [
            "5\n",
            "john\n",
            "42.4\n"
          ],
          "name": "stdout"
        }
      ]
    },
    {
      "cell_type": "markdown",
      "metadata": {
        "id": "Tgl96fTvxmsB"
      },
      "source": [
        "assign multiple values"
      ]
    },
    {
      "cell_type": "code",
      "metadata": {
        "colab": {
          "base_uri": "https://localhost:8080/"
        },
        "id": "NFAHbxFlxscY",
        "outputId": "beffc744-0224-4988-fce8-abfc6a3a6112"
      },
      "source": [
        "x,y,z=5,4.2,\"riya\"\r\n",
        "print(x)\r\n",
        "print(y)\r\n",
        "print(z)"
      ],
      "execution_count": null,
      "outputs": [
        {
          "output_type": "stream",
          "text": [
            "5\n",
            "4.2\n",
            "riya\n"
          ],
          "name": "stdout"
        }
      ]
    },
    {
      "cell_type": "code",
      "metadata": {
        "colab": {
          "base_uri": "https://localhost:8080/"
        },
        "id": "UEpDEhK3x-N4",
        "outputId": "5dbbca09-9676-4a39-bd80-c6b25f46718a"
      },
      "source": [
        "x=y=z=\"hello\"\r\n",
        "print(x)\r\n",
        "print(y)\r\n",
        "print(z)"
      ],
      "execution_count": null,
      "outputs": [
        {
          "output_type": "stream",
          "text": [
            "hello\n",
            "hello\n",
            "hello\n"
          ],
          "name": "stdout"
        }
      ]
    },
    {
      "cell_type": "code",
      "metadata": {
        "colab": {
          "base_uri": "https://localhost:8080/"
        },
        "id": "r1H4zETkzXUA",
        "outputId": "8f014bb0-78c1-4eab-e81d-30b5e4936704"
      },
      "source": [
        "x=str(35)\r\n",
        "print(\"the roll number of akash is \" + x)"
      ],
      "execution_count": null,
      "outputs": [
        {
          "output_type": "stream",
          "text": [
            "the roll number of akash is 35\n"
          ],
          "name": "stdout"
        }
      ]
    },
    {
      "cell_type": "code",
      "metadata": {
        "colab": {
          "base_uri": "https://localhost:8080/"
        },
        "id": "jkt871_Bz6iQ",
        "outputId": "bc4d940e-00dd-4029-fa60-504966f0530b"
      },
      "source": [
        "x=str(35)\r\n",
        "print(x + \" is the roll number of akash\")"
      ],
      "execution_count": null,
      "outputs": [
        {
          "output_type": "stream",
          "text": [
            "35 is the roll number of akash\n"
          ],
          "name": "stdout"
        }
      ]
    },
    {
      "cell_type": "markdown",
      "metadata": {
        "id": "7gzjHnH316OA"
      },
      "source": [
        "#Exersise-1"
      ]
    },
    {
      "cell_type": "code",
      "metadata": {
        "colab": {
          "base_uri": "https://localhost:8080/"
        },
        "id": "wPWY2pf61VGo",
        "outputId": "9ddaa57d-e36a-4655-ae3d-f2cc1be6ebe0"
      },
      "source": [
        "carname=\"volvo\"\r\n",
        "print(carname)\r\n"
      ],
      "execution_count": null,
      "outputs": [
        {
          "output_type": "stream",
          "text": [
            "volvo\n"
          ],
          "name": "stdout"
        }
      ]
    },
    {
      "cell_type": "markdown",
      "metadata": {
        "id": "qBEYa64I2XaQ"
      },
      "source": [
        "#Exersise-2"
      ]
    },
    {
      "cell_type": "code",
      "metadata": {
        "colab": {
          "base_uri": "https://localhost:8080/"
        },
        "id": "BZY-_m8S2lio",
        "outputId": "d34ad384-e11c-4360-c952-9e466f354072"
      },
      "source": [
        "x=50\r\n",
        "print(type(x))"
      ],
      "execution_count": null,
      "outputs": [
        {
          "output_type": "stream",
          "text": [
            "<class 'int'>\n"
          ],
          "name": "stdout"
        }
      ]
    },
    {
      "cell_type": "markdown",
      "metadata": {
        "id": "ejKI4Q042y1Q"
      },
      "source": [
        "#Exersise-3"
      ]
    },
    {
      "cell_type": "code",
      "metadata": {
        "colab": {
          "base_uri": "https://localhost:8080/"
        },
        "id": "XIK5OOAC22pY",
        "outputId": "30d904ae-c088-4ccf-b179-26310472fc6a"
      },
      "source": [
        "x=5\r\n",
        "y=10\r\n",
        "print(x+y)"
      ],
      "execution_count": null,
      "outputs": [
        {
          "output_type": "stream",
          "text": [
            "15\n"
          ],
          "name": "stdout"
        }
      ]
    },
    {
      "cell_type": "markdown",
      "metadata": {
        "id": "2Yv9x2x53EK4"
      },
      "source": [
        "#Exersise-4"
      ]
    },
    {
      "cell_type": "code",
      "metadata": {
        "colab": {
          "base_uri": "https://localhost:8080/"
        },
        "id": "jnzJa7zB3Gbw",
        "outputId": "cdc2602d-09cd-468c-ae0c-f6bbf8a1fd82"
      },
      "source": [
        "x,y=11,17\r\n",
        "z=x+y\r\n",
        "print(z)\r\n"
      ],
      "execution_count": null,
      "outputs": [
        {
          "output_type": "stream",
          "text": [
            "28\n"
          ],
          "name": "stdout"
        }
      ]
    },
    {
      "cell_type": "markdown",
      "metadata": {
        "id": "1BA8rjMDD0g5"
      },
      "source": [
        "Data type"
      ]
    },
    {
      "cell_type": "code",
      "metadata": {
        "colab": {
          "base_uri": "https://localhost:8080/"
        },
        "id": "QicuueKoD6ZQ",
        "outputId": "304b5ade-4006-4495-d40b-286cd202928f"
      },
      "source": [
        "x=5.55\r\n",
        "print(type(x))"
      ],
      "execution_count": null,
      "outputs": [
        {
          "output_type": "stream",
          "text": [
            "<class 'float'>\n"
          ],
          "name": "stdout"
        }
      ]
    },
    {
      "cell_type": "markdown",
      "metadata": {
        "id": "mHWMTW_HEOKI"
      },
      "source": [
        "#Exersise-5"
      ]
    },
    {
      "cell_type": "code",
      "metadata": {
        "colab": {
          "base_uri": "https://localhost:8080/"
        },
        "id": "72OSydwfESSJ",
        "outputId": "366c394d-f9ac-49b8-9586-522fb76ffd9d"
      },
      "source": [
        "x1=\"Hello World\" #string\r\n",
        "x2=10 #integer\r\n",
        "x3=10.1 #float\r\n",
        "x4=[\"apple\",\"banana\",\"cherry\"] #list\r\n",
        "x5=(\"apple\",\"banana\",\"cherry\") #tuple\r\n",
        "x6=range(6)  #range\r\n",
        "x7={\"name\":\"Johnwick\",\"age\":36} #dictionary\r\n",
        "x8={\"apple\",\"banana\",\"cherry\"} #set\r\n",
        "x9=True #bool\r\n",
        "print(type(x1))\r\n",
        "print(type(x2))\r\n",
        "print(type(x3))\r\n",
        "print(type(x4))\r\n",
        "print(type(x5))\r\n",
        "print(type(x6))\r\n",
        "print(type(x7))\r\n",
        "print(type(x8))\r\n",
        "print(type(x9))"
      ],
      "execution_count": null,
      "outputs": [
        {
          "output_type": "stream",
          "text": [
            "<class 'str'>\n",
            "<class 'int'>\n",
            "<class 'float'>\n",
            "<class 'list'>\n",
            "<class 'tuple'>\n",
            "<class 'range'>\n",
            "<class 'dict'>\n",
            "<class 'set'>\n",
            "<class 'bool'>\n"
          ],
          "name": "stdout"
        }
      ]
    },
    {
      "cell_type": "markdown",
      "metadata": {
        "id": "Ui4upI8iHeiY"
      },
      "source": [
        "#Python number"
      ]
    },
    {
      "cell_type": "code",
      "metadata": {
        "colab": {
          "base_uri": "https://localhost:8080/"
        },
        "id": "dhn6VDbBHiOw",
        "outputId": "f6bacf26-05f1-4e13-8566-ce2a00f3ccb5"
      },
      "source": [
        "x=1\r\n",
        "y=143546586863356588524557\r\n",
        "z=-3543756745\r\n",
        "print(type(x))\r\n",
        "print(type(y))\r\n",
        "print(type(z))"
      ],
      "execution_count": null,
      "outputs": [
        {
          "output_type": "stream",
          "text": [
            "<class 'int'>\n",
            "<class 'int'>\n",
            "<class 'int'>\n"
          ],
          "name": "stdout"
        }
      ]
    },
    {
      "cell_type": "code",
      "metadata": {
        "colab": {
          "base_uri": "https://localhost:8080/"
        },
        "id": "q24je30YH5Fw",
        "outputId": "92702f26-cd21-4322-ff9c-f3a57993e484"
      },
      "source": [
        "x=3+5j\r\n",
        "print(type(x))"
      ],
      "execution_count": null,
      "outputs": [
        {
          "output_type": "stream",
          "text": [
            "<class 'complex'>\n"
          ],
          "name": "stdout"
        }
      ]
    },
    {
      "cell_type": "code",
      "metadata": {
        "colab": {
          "base_uri": "https://localhost:8080/"
        },
        "id": "LpyrmX1BKGqH",
        "outputId": "e85ddb86-4561-4e48-e984-49218a2212b1"
      },
      "source": [
        "x=range(0,6,2)\r\n",
        "print(list(x))"
      ],
      "execution_count": null,
      "outputs": [
        {
          "output_type": "stream",
          "text": [
            "[0, 2, 4]\n"
          ],
          "name": "stdout"
        }
      ]
    },
    {
      "cell_type": "code",
      "metadata": {
        "colab": {
          "base_uri": "https://localhost:8080/"
        },
        "id": "mh437C16LPiH",
        "outputId": "c5fc3a53-f692-497e-e231-5507d1fec380"
      },
      "source": [
        "x={1,2,3,2,4,3} #set removes the duplicate character\r\n",
        "print(x)"
      ],
      "execution_count": null,
      "outputs": [
        {
          "output_type": "stream",
          "text": [
            "{1, 2, 3, 4}\n"
          ],
          "name": "stdout"
        }
      ]
    },
    {
      "cell_type": "markdown",
      "metadata": {
        "id": "MeW6rYNeMMgG"
      },
      "source": [
        "#Type conversion"
      ]
    },
    {
      "cell_type": "code",
      "metadata": {
        "colab": {
          "base_uri": "https://localhost:8080/"
        },
        "id": "s0XCb3LMMRen",
        "outputId": "6ff44599-7084-467f-e85e-c59e8b2c0489"
      },
      "source": [
        "x=1\r\n",
        "y=2.8\r\n",
        "z=4+5j\r\n",
        "a=float(x)\r\n",
        "b=complex(y)\r\n",
        "c=int(y)\r\n",
        "print(a)\r\n",
        "print(b)\r\n",
        "print(c)\r\n",
        "#complex cannot be converted to other form."
      ],
      "execution_count": null,
      "outputs": [
        {
          "output_type": "stream",
          "text": [
            "1.0\n",
            "(2.8+0j)\n",
            "2\n"
          ],
          "name": "stdout"
        }
      ]
    },
    {
      "cell_type": "markdown",
      "metadata": {
        "id": "-sfVsYVCN3p5"
      },
      "source": [
        "#Python casting"
      ]
    },
    {
      "cell_type": "code",
      "metadata": {
        "colab": {
          "base_uri": "https://localhost:8080/"
        },
        "id": "mb-RNxR2N6cn",
        "outputId": "8ff64119-37dc-4c6f-818f-d8f970309703"
      },
      "source": [
        "x=int(1)\r\n",
        "y=int(2.8)\r\n",
        "z=int(\"3\")\r\n",
        "\r\n",
        "a=float(1)\r\n",
        "b=float(2.8)\r\n",
        "c=float(\"3\")\r\n",
        "d=float(\"4.2\")\r\n",
        "\r\n",
        "o=str(\"sl\")\r\n",
        "p=str(2)\r\n",
        "q=str(3.0)\r\n",
        "\r\n",
        "print(x)\r\n",
        "print(y)\r\n",
        "print(z)\r\n",
        "print(a)\r\n",
        "print(b)\r\n",
        "print(c)\r\n",
        "print(d)\r\n",
        "print(o)\r\n",
        "print(p)\r\n",
        "print(q)"
      ],
      "execution_count": null,
      "outputs": [
        {
          "output_type": "stream",
          "text": [
            "1\n",
            "2\n",
            "3\n",
            "1.0\n",
            "2.8\n",
            "3.0\n",
            "4.2\n",
            "sl\n",
            "2\n",
            "3.0\n"
          ],
          "name": "stdout"
        }
      ]
    },
    {
      "cell_type": "markdown",
      "metadata": {
        "id": "V4bi2dPYPDAS"
      },
      "source": [
        "#Exersise-6"
      ]
    },
    {
      "cell_type": "code",
      "metadata": {
        "colab": {
          "base_uri": "https://localhost:8080/"
        },
        "id": "FzjfN86rPI3A",
        "outputId": "54949c0c-ebdb-4a3a-b3f5-b27190fc189b"
      },
      "source": [
        "x=2\r\n",
        "y=3\r\n",
        "print(\"x+y=\"+str(x)+str(y))"
      ],
      "execution_count": null,
      "outputs": [
        {
          "output_type": "stream",
          "text": [
            "x+y=23\n"
          ],
          "name": "stdout"
        }
      ]
    },
    {
      "cell_type": "markdown",
      "metadata": {
        "id": "xy0wiXwRST2x"
      },
      "source": [
        "string"
      ]
    },
    {
      "cell_type": "code",
      "metadata": {
        "colab": {
          "base_uri": "https://localhost:8080/"
        },
        "id": "Y9bySeaJSWDv",
        "outputId": "03f58745-9209-4f56-dc2f-587524efb11b"
      },
      "source": [
        "name=\"Dhoni\"\r\n",
        "print(name)\r\n",
        "print(type(name))"
      ],
      "execution_count": null,
      "outputs": [
        {
          "output_type": "stream",
          "text": [
            "Dhoni\n",
            "<class 'str'>\n"
          ],
          "name": "stdout"
        }
      ]
    },
    {
      "cell_type": "code",
      "metadata": {
        "colab": {
          "base_uri": "https://localhost:8080/"
        },
        "id": "mwM6m6chVh73",
        "outputId": "70eabd43-1517-4579-f456-f9989a19cb12"
      },
      "source": [
        "name=\"hello world\"\r\n",
        "print(name[0])\r\n",
        "print(name[3])\r\n",
        "print(len(name)) #length of the name\r\n",
        "print(\"hello\" in name)   #word tracing\r\n",
        "print(\"23\" in name)\r\n",
        "print(name[0:5])   #slicing\r\n",
        "print(name[:6])\r\n",
        "print(name[6:])\r\n",
        "print(name[-5:-2])\r\n"
      ],
      "execution_count": null,
      "outputs": [
        {
          "output_type": "stream",
          "text": [
            "h\n",
            "l\n",
            "11\n",
            "True\n",
            "False\n",
            "hello\n",
            "hello \n",
            "world\n",
            "wor\n"
          ],
          "name": "stdout"
        }
      ]
    },
    {
      "cell_type": "markdown",
      "metadata": {
        "id": "EsKvI7SQWLGH"
      },
      "source": [
        "modifying"
      ]
    },
    {
      "cell_type": "code",
      "metadata": {
        "colab": {
          "base_uri": "https://localhost:8080/"
        },
        "id": "bX5bKYoDWRAZ",
        "outputId": "4d755a5b-beab-4277-af8d-cc67d8207755"
      },
      "source": [
        "txt=\"Things In Life Are Free!\"\r\n",
        "print(txt.upper())\r\n",
        "print(txt.lower())"
      ],
      "execution_count": null,
      "outputs": [
        {
          "output_type": "stream",
          "text": [
            "THINGS IN LIFE ARE FREE!\n",
            "things in life are free!\n"
          ],
          "name": "stdout"
        }
      ]
    },
    {
      "cell_type": "code",
      "metadata": {
        "colab": {
          "base_uri": "https://localhost:8080/"
        },
        "id": "ir065YDmW7pm",
        "outputId": "e1b7105a-3df9-472d-b220-8128af2388b9"
      },
      "source": [
        "a=\"hello \"\r\n",
        "b=\"world\"\r\n",
        "print(a+b)"
      ],
      "execution_count": null,
      "outputs": [
        {
          "output_type": "stream",
          "text": [
            "hello world\n"
          ],
          "name": "stdout"
        }
      ]
    },
    {
      "cell_type": "code",
      "metadata": {
        "colab": {
          "base_uri": "https://localhost:8080/"
        },
        "id": "lD6T-KEZXYpw",
        "outputId": "fb434f35-e957-4988-9af8-c1c9480a12ba"
      },
      "source": [
        "age=36\r\n",
        "txt=\"my name is John,I am {} \" \r\n",
        "print(txt.format(age))"
      ],
      "execution_count": null,
      "outputs": [
        {
          "output_type": "stream",
          "text": [
            "my name is John,I am 36 \n"
          ],
          "name": "stdout"
        }
      ]
    },
    {
      "cell_type": "code",
      "metadata": {
        "colab": {
          "base_uri": "https://localhost:8080/"
        },
        "id": "vyRFc2tAYr2x",
        "outputId": "5de1a20a-17a2-4506-882e-f87e8375de4e"
      },
      "source": [
        "txt=\"hello\\nworld!\"\r\n",
        "print(txt)"
      ],
      "execution_count": null,
      "outputs": [
        {
          "output_type": "stream",
          "text": [
            "hello\n",
            "world!\n"
          ],
          "name": "stdout"
        }
      ]
    },
    {
      "cell_type": "code",
      "metadata": {
        "colab": {
          "base_uri": "https://localhost:8080/"
        },
        "id": "ocinUqH5ZF1H",
        "outputId": "cf459e10-c052-43ea-af03-c8f459991944"
      },
      "source": [
        "txt=\"hello\\tworld!\"\r\n",
        "print(txt)"
      ],
      "execution_count": null,
      "outputs": [
        {
          "output_type": "stream",
          "text": [
            "hello\tworld!\n"
          ],
          "name": "stdout"
        }
      ]
    },
    {
      "cell_type": "code",
      "metadata": {
        "colab": {
          "base_uri": "https://localhost:8080/"
        },
        "id": "UMg4H1GFZK9A",
        "outputId": "91533f4f-5db3-4436-df39-08f7540bdd21"
      },
      "source": [
        "txt=\"hello \\bworld!\"\r\n",
        "print(txt)"
      ],
      "execution_count": null,
      "outputs": [
        {
          "output_type": "stream",
          "text": [
            "hello \bworld!\n"
          ],
          "name": "stdout"
        }
      ]
    },
    {
      "cell_type": "code",
      "metadata": {
        "colab": {
          "base_uri": "https://localhost:8080/"
        },
        "id": "6ed0M_qlZO03",
        "outputId": "d9b0f8ce-83a7-4bfd-c760-224688d1c952"
      },
      "source": [
        "txt=\"archana\"\r\n",
        "print(txt.capitalize())  #convert 1st character to upper case"
      ],
      "execution_count": null,
      "outputs": [
        {
          "output_type": "stream",
          "text": [
            "Archana\n"
          ],
          "name": "stdout"
        }
      ]
    },
    {
      "cell_type": "code",
      "metadata": {
        "colab": {
          "base_uri": "https://localhost:8080/"
        },
        "id": "x2G82WPyaN1P",
        "outputId": "8d503b32-8b87-4bc0-aaac-ba2ee8309881"
      },
      "source": [
        "x=\"archana\"\r\n",
        "print(x.isalpha())\r\n",
        "print(x.isdigit())"
      ],
      "execution_count": null,
      "outputs": [
        {
          "output_type": "stream",
          "text": [
            "True\n",
            "False\n"
          ],
          "name": "stdout"
        }
      ]
    },
    {
      "cell_type": "code",
      "metadata": {
        "colab": {
          "base_uri": "https://localhost:8080/"
        },
        "id": "qlS_my-Jp_Gq",
        "outputId": "261c5ad5-587c-4676-dd02-ae1a1ca28343"
      },
      "source": [
        "name=\"alvas\"\r\n",
        "x=\" college\"\r\n",
        "txt=\"alvas{}\"\r\n",
        "print(len(name))\r\n",
        "print(name[0:4])\r\n",
        "print(name.upper())\r\n",
        "print(txt.format(x))\r\n",
        "print(name + x)\r\n",
        "print(name.isdigit())"
      ],
      "execution_count": 114,
      "outputs": [
        {
          "output_type": "stream",
          "text": [
            "5\n",
            "alva\n",
            "ALVAS\n",
            "alvas college\n",
            "alvas college\n",
            "False\n"
          ],
          "name": "stdout"
        }
      ]
    },
    {
      "cell_type": "markdown",
      "metadata": {
        "id": "Myb4h7ZrutiK"
      },
      "source": [
        "Boolean values"
      ]
    },
    {
      "cell_type": "code",
      "metadata": {
        "colab": {
          "base_uri": "https://localhost:8080/"
        },
        "id": "TKF-MtjCu0w5",
        "outputId": "38b4d20b-2141-4429-9b03-ab0717ed70aa"
      },
      "source": [
        "print(10>9)\r\n",
        "print(10==9)"
      ],
      "execution_count": 116,
      "outputs": [
        {
          "output_type": "stream",
          "text": [
            "True\n",
            "False\n"
          ],
          "name": "stdout"
        }
      ]
    },
    {
      "cell_type": "markdown",
      "metadata": {
        "id": "ArWn-Itou-tR"
      },
      "source": [
        "Operators"
      ]
    },
    {
      "cell_type": "code",
      "metadata": {
        "colab": {
          "base_uri": "https://localhost:8080/"
        },
        "id": "UTmz5awwvELp",
        "outputId": "c579686b-9d09-4a04-eaf7-1d5a05ec8099"
      },
      "source": [
        "print(10+5)\r\n",
        "print(10-5)\r\n",
        "print(10*5)\r\n",
        "print(10/5)\r\n",
        "print(10%5)\r\n"
      ],
      "execution_count": 118,
      "outputs": [
        {
          "output_type": "stream",
          "text": [
            "15\n",
            "5\n",
            "50\n",
            "2.0\n",
            "0\n"
          ],
          "name": "stdout"
        }
      ]
    },
    {
      "cell_type": "code",
      "metadata": {
        "colab": {
          "base_uri": "https://localhost:8080/"
        },
        "id": "Xzrr0DJLwpdn",
        "outputId": "e6efc155-b55b-499f-f6a6-68882e110134"
      },
      "source": [
        "x=5\r\n",
        "x +=3\r\n",
        "print(x)"
      ],
      "execution_count": 119,
      "outputs": [
        {
          "output_type": "stream",
          "text": [
            "8\n"
          ],
          "name": "stdout"
        }
      ]
    },
    {
      "cell_type": "code",
      "metadata": {
        "colab": {
          "base_uri": "https://localhost:8080/"
        },
        "id": "nafexhuYw4L-",
        "outputId": "9de4fcc1-9b29-491c-bc5b-51c393751813"
      },
      "source": [
        "x=5\r\n",
        "y=3\r\n",
        "print(x==y)\r\n",
        "print(x!=y)\r\n",
        "print(x>y)\r\n",
        "print(x<y)"
      ],
      "execution_count": 120,
      "outputs": [
        {
          "output_type": "stream",
          "text": [
            "False\n",
            "True\n",
            "True\n",
            "False\n"
          ],
          "name": "stdout"
        }
      ]
    },
    {
      "cell_type": "code",
      "metadata": {
        "colab": {
          "base_uri": "https://localhost:8080/"
        },
        "id": "nGUt448oyGth",
        "outputId": "67580f8c-e29e-4db3-8352-9eba5a7b29f6"
      },
      "source": [
        "print(3>0 and 3<8)\r\n",
        "print(3<0 and 3>8)\r\n",
        "print(3>0 or 3>8)"
      ],
      "execution_count": 125,
      "outputs": [
        {
          "output_type": "stream",
          "text": [
            "True\n",
            "False\n",
            "True\n"
          ],
          "name": "stdout"
        }
      ]
    },
    {
      "cell_type": "markdown",
      "metadata": {
        "id": "2OJTLZNwyqUt"
      },
      "source": [
        "#Assignment"
      ]
    },
    {
      "cell_type": "code",
      "metadata": {
        "colab": {
          "base_uri": "https://localhost:8080/"
        },
        "id": "FF6Eg5PVywXe",
        "outputId": "424c0090-83fa-4723-e52d-de0ec7a87708"
      },
      "source": [
        "x=int(input(\"enter value x \"))\r\n",
        "Y=int(input(\"enter value y \"))\r\n",
        "print(x+Y)\r\n",
        "print(x-Y)\r\n",
        "print(x*Y)\r\n",
        "print(x/Y)\r\n",
        "print(x%Y)\r\n",
        "print(x==Y)\r\n",
        "print(x!=Y)\r\n",
        "print(x>Y)\r\n",
        "print(x<Y)\r\n",
        "print(5<20 and 20>5)\r\n",
        "print(5>20 or 20>5)"
      ],
      "execution_count": 138,
      "outputs": [
        {
          "output_type": "stream",
          "text": [
            "enter value x 20\n",
            "enter value y 5\n",
            "25\n",
            "15\n",
            "100\n",
            "4.0\n",
            "0\n",
            "False\n",
            "True\n",
            "True\n",
            "False\n",
            "True\n",
            "True\n"
          ],
          "name": "stdout"
        }
      ]
    },
    {
      "cell_type": "markdown",
      "metadata": {
        "id": "oIdqb9f4465f"
      },
      "source": [
        "thislist"
      ]
    },
    {
      "cell_type": "code",
      "metadata": {
        "colab": {
          "base_uri": "https://localhost:8080/"
        },
        "id": "Kddq6Prt49wu",
        "outputId": "43bea558-d95f-4d6c-9f7e-d94aaca5a9bd"
      },
      "source": [
        "thislist = [\"abhishek\",\"vishak\",\"jayraj\"]\r\n",
        "print(thislist)"
      ],
      "execution_count": 139,
      "outputs": [
        {
          "output_type": "stream",
          "text": [
            "['abhishek', 'vishak', 'jayraj']\n"
          ],
          "name": "stdout"
        }
      ]
    },
    {
      "cell_type": "code",
      "metadata": {
        "colab": {
          "base_uri": "https://localhost:8080/"
        },
        "id": "51L7TK3D5WBG",
        "outputId": "d7538138-0481-4797-88e2-ad76f8f55796"
      },
      "source": [
        "l=[\"ece\",\"cse\",\"ise\"]\r\n",
        "print(len(l))\r\n",
        "print(l)"
      ],
      "execution_count": 142,
      "outputs": [
        {
          "output_type": "stream",
          "text": [
            "3\n",
            "['ece', 'cse', 'ise']\n"
          ],
          "name": "stdout"
        }
      ]
    },
    {
      "cell_type": "code",
      "metadata": {
        "colab": {
          "base_uri": "https://localhost:8080/"
        },
        "id": "V_AXdRum6lCG",
        "outputId": "4d884cab-7b2f-49f0-9287-b21f499b4baa"
      },
      "source": [
        "l=[\"cse\",\"ece\",\"ise\",\"mech\",\"civil\",\"AI\"]\r\n",
        "print(l[2:5])\r\n",
        "print(l[ :3])\r\n",
        "print(l[4: ])"
      ],
      "execution_count": 145,
      "outputs": [
        {
          "output_type": "stream",
          "text": [
            "['ise', 'mech', 'civil']\n",
            "['cse', 'ece', 'ise']\n",
            "['civil', 'AI']\n"
          ],
          "name": "stdout"
        }
      ]
    },
    {
      "cell_type": "code",
      "metadata": {
        "colab": {
          "base_uri": "https://localhost:8080/"
        },
        "id": "sEG72RMV7mD-",
        "outputId": "040c2eeb-96c5-4e44-c034-9feab03a7bb5"
      },
      "source": [
        "l=[\"cse\",\"ece\",\"ise\"]\r\n",
        "l[-1] = \"mech\"\r\n",
        "print(l)"
      ],
      "execution_count": 150,
      "outputs": [
        {
          "output_type": "stream",
          "text": [
            "['cse', 'ece', 'mech']\n"
          ],
          "name": "stdout"
        }
      ]
    },
    {
      "cell_type": "code",
      "metadata": {
        "colab": {
          "base_uri": "https://localhost:8080/"
        },
        "id": "kYxqvf8w8Qp2",
        "outputId": "0d653395-a2c1-4c1f-e0d4-4fa600756cce"
      },
      "source": [
        "thislist=[\"apple\",\"banana\",\"cherry\"]\r\n",
        "print(len(thislist))\r\n",
        "thislist.append(\"orange\")\r\n",
        "print(thislist)\r\n",
        "print(len(thislist))"
      ],
      "execution_count": 151,
      "outputs": [
        {
          "output_type": "stream",
          "text": [
            "3\n",
            "['apple', 'banana', 'cherry', 'orange']\n",
            "4\n"
          ],
          "name": "stdout"
        }
      ]
    },
    {
      "cell_type": "code",
      "metadata": {
        "colab": {
          "base_uri": "https://localhost:8080/"
        },
        "id": "AHTLjYDy8zhG",
        "outputId": "9ef9d29a-4217-4b8a-f3c9-94cced13e170"
      },
      "source": [
        "thislist=[\"apple\",\"banana\",\"cherry\"]\r\n",
        "tropical=[\"mango\",\"pineapple\",\"papaya\"]\r\n",
        "thislist.extend(tropical)\r\n",
        "print(thislist)"
      ],
      "execution_count": 152,
      "outputs": [
        {
          "output_type": "stream",
          "text": [
            "['apple', 'banana', 'cherry', 'mango', 'pineapple', 'papaya']\n"
          ],
          "name": "stdout"
        }
      ]
    },
    {
      "cell_type": "code",
      "metadata": {
        "colab": {
          "base_uri": "https://localhost:8080/"
        },
        "id": "fmv9UB5H9a2d",
        "outputId": "a1a0f222-c518-4ca6-d289-a0cbae2e36c7"
      },
      "source": [
        "thislist=[\"apple\",\"banana\",\"cherry\"]\r\n",
        "tropical=[\"mango\",\"pineapple\",\"papaya\"]\r\n",
        "newlist=thislist+tropical\r\n",
        "print(newlist)"
      ],
      "execution_count": 153,
      "outputs": [
        {
          "output_type": "stream",
          "text": [
            "['apple', 'banana', 'cherry', 'mango', 'pineapple', 'papaya']\n"
          ],
          "name": "stdout"
        }
      ]
    },
    {
      "cell_type": "code",
      "metadata": {
        "colab": {
          "base_uri": "https://localhost:8080/"
        },
        "id": "hpF4sOA6-e3Q",
        "outputId": "3b4d76d9-1d71-448f-f6eb-34d32e5bddad"
      },
      "source": [
        "thislist=[\"apple\",\"banana\",\"cherry\"]\r\n",
        "thislist.pop(1)\r\n",
        "print(thislist)\r\n",
        "thislist.pop()\r\n",
        "print(thislist)\r\n"
      ],
      "execution_count": 157,
      "outputs": [
        {
          "output_type": "stream",
          "text": [
            "['apple', 'cherry']\n",
            "['apple']\n"
          ],
          "name": "stdout"
        }
      ]
    },
    {
      "cell_type": "code",
      "metadata": {
        "colab": {
          "base_uri": "https://localhost:8080/"
        },
        "id": "y5hG0MA5-8sF",
        "outputId": "a56055a4-4a42-43d7-a0f5-627fb071c44d"
      },
      "source": [
        "thislist=[100,50,65,82,23]  #sorting in asending order\r\n",
        "thislist.sort()\r\n",
        "print(thislist)"
      ],
      "execution_count": 158,
      "outputs": [
        {
          "output_type": "stream",
          "text": [
            "[23, 50, 65, 82, 100]\n"
          ],
          "name": "stdout"
        }
      ]
    },
    {
      "cell_type": "code",
      "metadata": {
        "colab": {
          "base_uri": "https://localhost:8080/"
        },
        "id": "aWginhDR_6h2",
        "outputId": "cd6cd016-7559-4455-b801-eb35df99ff79"
      },
      "source": [
        "thislist=[100,50,65,82,23]   #sorting in decending order\r\n",
        "thislist.sort(reverse = True)\r\n",
        "print(thislist)"
      ],
      "execution_count": 159,
      "outputs": [
        {
          "output_type": "stream",
          "text": [
            "[100, 82, 65, 50, 23]\n"
          ],
          "name": "stdout"
        }
      ]
    },
    {
      "cell_type": "code",
      "metadata": {
        "colab": {
          "base_uri": "https://localhost:8080/"
        },
        "id": "nUz-f6ePBKH9",
        "outputId": "9d6a6e00-5514-443c-a59b-5ccb276e4243"
      },
      "source": [
        "namelist=[\"harsh\",\"pratik\",\"bob\",\"dhruv\"]\r\n",
        "print(namelist[1])"
      ],
      "execution_count": 161,
      "outputs": [
        {
          "output_type": "stream",
          "text": [
            "pratik\n"
          ],
          "name": "stdout"
        }
      ]
    },
    {
      "cell_type": "code",
      "metadata": {
        "colab": {
          "base_uri": "https://localhost:8080/"
        },
        "id": "DqI0oHqwBz6n",
        "outputId": "d6f96a76-6b5b-4f0e-ae91-3f8fffa31b8f"
      },
      "source": [
        "animal=[\"cat\",\"dog\",\"fish\",\"goat\"]\r\n",
        "age=[1,2,2,6]\r\n",
        "x=animal+age\r\n",
        "print(x)"
      ],
      "execution_count": 163,
      "outputs": [
        {
          "output_type": "stream",
          "text": [
            "['cat', 'dog', 'fish', 'goat', 1, 2, 2, 6]\n"
          ],
          "name": "stdout"
        }
      ]
    },
    {
      "cell_type": "code",
      "metadata": {
        "colab": {
          "base_uri": "https://localhost:8080/"
        },
        "id": "YCy2ucikCJ--",
        "outputId": "7a177f38-c816-4e5b-fbf3-074bbd14de26"
      },
      "source": [
        "animal=[\"cat\",\"dog\",\"fish\",\"goat\"]\r\n",
        "age=[1,2,2,6]\r\n",
        "animal.extend(age)\r\n",
        "print(animal)"
      ],
      "execution_count": 165,
      "outputs": [
        {
          "output_type": "stream",
          "text": [
            "['cat', 'dog', 'fish', 'goat', 1, 2, 2, 6]\n"
          ],
          "name": "stdout"
        }
      ]
    },
    {
      "cell_type": "code",
      "metadata": {
        "colab": {
          "base_uri": "https://localhost:8080/"
        },
        "id": "mS3qSrrxCtLn",
        "outputId": "baede12b-da1c-4838-ac1e-01f985f5007d"
      },
      "source": [
        "age=[1,2,3,6]\r\n",
        "age.append(9)\r\n",
        "print(age)\r\n",
        "age.pop(2)\r\n",
        "print(age)\r\n",
        "print(age.count(3))"
      ],
      "execution_count": 172,
      "outputs": [
        {
          "output_type": "stream",
          "text": [
            "[1, 2, 3, 6, 9]\n",
            "[1, 2, 6, 9]\n",
            "0\n"
          ],
          "name": "stdout"
        }
      ]
    },
    {
      "cell_type": "markdown",
      "metadata": {
        "id": "vGBZ07HjF2Ei"
      },
      "source": [
        "tuples"
      ]
    },
    {
      "cell_type": "code",
      "metadata": {
        "colab": {
          "base_uri": "https://localhost:8080/"
        },
        "id": "1yhfxlT-Fqn2",
        "outputId": "3de9a269-ed24-465b-fd03-032afeca24ed"
      },
      "source": [
        "thistuple=(\"apple\",\"banana\",\"cherry\")\r\n",
        "print(thistuple)"
      ],
      "execution_count": 173,
      "outputs": [
        {
          "output_type": "stream",
          "text": [
            "('apple', 'banana', 'cherry')\n"
          ],
          "name": "stdout"
        }
      ]
    },
    {
      "cell_type": "code",
      "metadata": {
        "colab": {
          "base_uri": "https://localhost:8080/"
        },
        "id": "wjRBmYSKGzXN",
        "outputId": "73d7f22f-d51e-4c6c-fbea-fe55cbce2e3f"
      },
      "source": [
        "x=(\"apple\",\"banana\",\"cherry\")\r\n",
        "y=list(x)\r\n",
        "y[1]=\"kiwi\"\r\n",
        "x=tuple(y)\r\n",
        "print(x)\r\n",
        "print(y)"
      ],
      "execution_count": 175,
      "outputs": [
        {
          "output_type": "stream",
          "text": [
            "('apple', 'kiwi', 'cherry')\n",
            "['apple', 'kiwi', 'cherry']\n"
          ],
          "name": "stdout"
        }
      ]
    },
    {
      "cell_type": "code",
      "metadata": {
        "colab": {
          "base_uri": "https://localhost:8080/"
        },
        "id": "CU3HABPQH9v9",
        "outputId": "a7b96574-e175-4cc8-c47d-057140f1c5d0"
      },
      "source": [
        "fruits=(\"apple\",\"banana\",\"cherry\")\r\n",
        "newlist=list(fruits)\r\n",
        "print(newlist)\r\n",
        "newlist.append(\"kiwi\")\r\n",
        "print(fruits[-2])\r\n",
        "print(newlist)\r\n",
        "print(tuple(newlist))"
      ],
      "execution_count": 183,
      "outputs": [
        {
          "output_type": "stream",
          "text": [
            "['apple', 'banana', 'cherry']\n",
            "banana\n",
            "['apple', 'banana', 'cherry', 'kiwi']\n",
            "('apple', 'banana', 'cherry', 'kiwi')\n"
          ],
          "name": "stdout"
        }
      ]
    }
  ]
}